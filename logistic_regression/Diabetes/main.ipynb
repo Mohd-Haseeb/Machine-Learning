{
 "cells": [
  {
   "cell_type": "code",
   "execution_count": null,
   "metadata": {},
   "outputs": [],
   "source": [
    "import pandas as pd\n",
    "import numpy as np\n",
    "import seaborn as sns\n",
    "import matplotlib.pyplot as plt\n"
   ]
  },
  {
   "cell_type": "code",
   "execution_count": null,
   "metadata": {},
   "outputs": [],
   "source": [
    "df = pd.read_csv('./diabetes.csv')\n",
    "df.shape"
   ]
  },
  {
   "cell_type": "code",
   "execution_count": null,
   "metadata": {},
   "outputs": [],
   "source": [
    "df.head()"
   ]
  },
  {
   "cell_type": "markdown",
   "metadata": {},
   "source": [
    "All patients here are females at least 21 years old.\n",
    "\n",
    "- Pregnancies: Number of times pregnant\n",
    "- Glucose: Plasma glucose concentration a 2 hours in an oral glucose tolerance test\n",
    "- BloodPressure: Diastolic blood pressure (mm Hg)\n",
    "- SkinThickness: Triceps skin fold thickness (mm)\n",
    "- Insulin: 2-Hour serum insulin (mu U/ml)\n",
    "- BMI: Body mass index (weight in kg/(height in m)^2)\n",
    "- DiabetesPedigreeFunction: Diabetes pedigree function\n",
    "- Age: Age (years)\n",
    "- Outcome: Class variable (0 or 1) \n",
    "    - 1 -> Tested positive for Diabetes"
   ]
  },
  {
   "cell_type": "code",
   "execution_count": null,
   "metadata": {},
   "outputs": [],
   "source": [
    "df.info()"
   ]
  },
  {
   "cell_type": "code",
   "execution_count": null,
   "metadata": {},
   "outputs": [],
   "source": [
    "df.describe().transpose()"
   ]
  },
  {
   "cell_type": "code",
   "execution_count": null,
   "metadata": {},
   "outputs": [],
   "source": [
    "print(f\"Total NULL values present in this are {df.isna().sum().sum()}\")\n",
    "df.isna().sum()"
   ]
  },
  {
   "cell_type": "markdown",
   "metadata": {},
   "source": [
    "### Is the Output data imbalanced ?"
   ]
  },
  {
   "cell_type": "markdown",
   "metadata": {},
   "source": [
    "A classification data set with skewed class proportions is called imbalanced. Classes that make up a large proportion of the data set are called majority classes. Those that make up a smaller proportion are minority classes.\n",
    "\n",
    "|Degree of imbalance|\tProportion of Minority Class|\n",
    "|---|----|\n",
    "|Mild | \t20-40% of the data set|\n",
    "|Moderate\t | 1-20% of the data set|\n",
    "|Extreme | \t<1% of the data set|"
   ]
  },
  {
   "cell_type": "code",
   "execution_count": null,
   "metadata": {},
   "outputs": [],
   "source": [
    "sns.countplot(df['Outcome'])"
   ]
  },
  {
   "cell_type": "code",
   "execution_count": null,
   "metadata": {},
   "outputs": [],
   "source": [
    "percentage_of_minority_data = (df[df['Outcome']==1].shape[0]/df['Outcome'].shape[0]*100)\n",
    "\n",
    "percentage_of_minority_data"
   ]
  },
  {
   "cell_type": "markdown",
   "metadata": {},
   "source": [
    "Obervation:\n",
    "- Data is mildly Imbalanced"
   ]
  },
  {
   "cell_type": "markdown",
   "metadata": {},
   "source": [
    "### Distribution of Each Column"
   ]
  },
  {
   "cell_type": "code",
   "execution_count": null,
   "metadata": {},
   "outputs": [],
   "source": [
    "from scipy.stats import skew\n",
    "for col in df.drop('Outcome', axis = 1).columns:\n",
    "    print(\"Skewness for the column {} is {}\".format(col, df[col].skew()))"
   ]
  },
  {
   "cell_type": "code",
   "execution_count": null,
   "metadata": {},
   "outputs": [],
   "source": [
    "plt.figure(figsize=(20,25), facecolor='white', dpi=150)\n",
    "plotnumber = 1\n",
    "\n",
    "for column in df.columns[:-1]:\n",
    "    if plotnumber<=9 :     # as there are 9 columns in the data\n",
    "        ax = plt.subplot(3,3,plotnumber)\n",
    "        sns.kdeplot(df[column], fill=True)\n",
    "        plt.xlabel(column,fontsize=20)\n",
    "        #plt.ylabel('Salary',fontsize=20)\n",
    "    plotnumber+=1\n",
    "plt.show()"
   ]
  },
  {
   "cell_type": "code",
   "execution_count": null,
   "metadata": {},
   "outputs": [],
   "source": [
    "df.sample(4)"
   ]
  },
  {
   "cell_type": "code",
   "execution_count": null,
   "metadata": {},
   "outputs": [],
   "source": [
    "df['Age'].describe()"
   ]
  },
  {
   "cell_type": "markdown",
   "metadata": {},
   "source": [
    "### Adding Age Groups"
   ]
  },
  {
   "cell_type": "code",
   "execution_count": null,
   "metadata": {},
   "outputs": [],
   "source": [
    "df_copy = df.copy()\n",
    "\n",
    "\n",
    "\n",
    "def ageGroup(age):\n",
    "    if age<=30:\n",
    "        return 'A'\n",
    "    elif age<=40:\n",
    "        return'B'\n",
    "    elif  age<=50:\n",
    "        return 'C'\n",
    "    else:\n",
    "        return'D'"
   ]
  },
  {
   "cell_type": "code",
   "execution_count": null,
   "metadata": {},
   "outputs": [],
   "source": [
    "df_copy['AgeGroup'] = df_copy['Age'].apply(ageGroup)"
   ]
  },
  {
   "cell_type": "code",
   "execution_count": null,
   "metadata": {},
   "outputs": [],
   "source": [
    "df_copy['AgeGroup'].value_counts()"
   ]
  },
  {
   "cell_type": "code",
   "execution_count": null,
   "metadata": {},
   "outputs": [],
   "source": [
    "plt.figure(figsize=(8,4), dpi=150)\n",
    "\n",
    "sns.countplot(x='AgeGroup', data=df_copy)"
   ]
  },
  {
   "cell_type": "code",
   "execution_count": null,
   "metadata": {},
   "outputs": [],
   "source": [
    "plt.figure(figsize=(8,4), dpi=150)\n",
    "sns.boxplot(data=df, y='Age', x='Outcome')\n",
    "plt.title('Age vs Outcome')\n",
    "plt.show()"
   ]
  },
  {
   "cell_type": "code",
   "execution_count": null,
   "metadata": {},
   "outputs": [],
   "source": [
    "group_wise_positive = df_copy.groupby(['AgeGroup','Outcome']).count().reset_index()\n",
    "\n",
    "group_wise_positive"
   ]
  },
  {
   "cell_type": "code",
   "execution_count": null,
   "metadata": {},
   "outputs": [],
   "source": []
  },
  {
   "cell_type": "code",
   "execution_count": null,
   "metadata": {},
   "outputs": [],
   "source": [
    "\n",
    "\n",
    "for grp in group_wise_positive['AgeGroup'].unique():\n",
    "   temp = group_wise_positive[group_wise_positive['AgeGroup']==grp]\n",
    "   (temp[temp['Outcome']==1]['Age']/np.sum(temp['Age']))*100\n",
    "   print(f\"GROUP {grp}:  {(temp[temp['Outcome']==1]['Age']/np.sum(temp['Age']))*100}\")\n",
    "  "
   ]
  },
  {
   "cell_type": "code",
   "execution_count": null,
   "metadata": {},
   "outputs": [],
   "source": [
    "# if we have less features, we can use 3d scatter plot\n",
    "from mpl_toolkits.mplot3d import Axes3D\n",
    "\n",
    "fig = plt.figure(dpi=150)\n",
    "ax = fig.add_subplot(111, projection='3d')\n",
    "ax.scatter(df_copy['Age'][df_copy['AgeGroup']=='A'],df_copy['BloodPressure'][df_copy['AgeGroup']=='A'],df_copy['Pregnancies'][df_copy['AgeGroup']=='A'], c=df_copy['Outcome'][df_copy['AgeGroup']=='A'])\n"
   ]
  },
  {
   "cell_type": "code",
   "execution_count": null,
   "metadata": {},
   "outputs": [],
   "source": [
    "fig = plt.figure(dpi=150)\n",
    "ax = fig.add_subplot(111, projection='3d')\n",
    "ax.scatter(df_copy['Age'][df_copy['AgeGroup']=='B'],df_copy['BloodPressure'][df_copy['AgeGroup']=='B'],df_copy['Pregnancies'][df_copy['AgeGroup']=='B'], c=df_copy['Outcome'][df_copy['AgeGroup']=='B'])\n"
   ]
  },
  {
   "cell_type": "code",
   "execution_count": null,
   "metadata": {},
   "outputs": [],
   "source": [
    "fig = plt.figure(dpi=150)\n",
    "ax = fig.add_subplot(111, projection='3d')\n",
    "\n",
    "ax.scatter(df_copy['Age'][df_copy['AgeGroup']=='C'],df_copy['BloodPressure'][df_copy['AgeGroup']=='C'],df_copy['Pregnancies'][df_copy['AgeGroup']=='C'], c=df_copy['Outcome'][df_copy['AgeGroup']=='C'])"
   ]
  },
  {
   "cell_type": "markdown",
   "metadata": {},
   "source": [
    "Observation:\n",
    "- Most of the patients are on the age group of 21-30. In fact they are doubled when compared with remaining all other age groups together\n",
    "- Younger people(21-30) have less changes of having Diabetes when compared to other age groups.\n",
    "- The median of the age of diabetic people is greater than that of non-diabetic people."
   ]
  },
  {
   "cell_type": "code",
   "execution_count": null,
   "metadata": {},
   "outputs": [],
   "source": []
  },
  {
   "cell_type": "code",
   "execution_count": null,
   "metadata": {},
   "outputs": [],
   "source": [
    "import warnings\n",
    "warnings.filterwarnings(\"ignore\")\n",
    "\n",
    "\n",
    "def distplot(col_name):\n",
    "    \"\"\"\n",
    "    A function that will plot the distribution of column 'col_name' for diabetic and non-diabetic people separately\n",
    "    \"\"\"\n",
    "    plt.figure(figsize=(8,4), dpi=150)\n",
    "\n",
    "    sns.distplot(x=df[col_name][df.Outcome == 1], color =\"red\", rug = True)\n",
    "    sns.distplot(x=df[col_name][df.Outcome == 0], color =\"lightblue\",rug = True)\n",
    "    plt.legend(['Diabetes', 'No Diabetes'])\n"
   ]
  },
  {
   "cell_type": "code",
   "execution_count": null,
   "metadata": {},
   "outputs": [],
   "source": [
    "def mean_target(var):\n",
    "    \"\"\"\n",
    "    A function that will return the mean values for 'var' column depending on whether the person\n",
    "    is diabetic or not\n",
    "    \"\"\"\n",
    "    a=df.query('Outcome == 0')[var].mean()\n",
    "    b=df.query('Outcome == 1')[var].mean()\n",
    "\n",
    "    return pd.DataFrame([a,b], columns=[var])"
   ]
  },
  {
   "cell_type": "code",
   "execution_count": null,
   "metadata": {},
   "outputs": [],
   "source": []
  },
  {
   "cell_type": "markdown",
   "metadata": {},
   "source": [
    "### BMI"
   ]
  },
  {
   "cell_type": "code",
   "execution_count": null,
   "metadata": {},
   "outputs": [],
   "source": [
    "df.head()"
   ]
  },
  {
   "cell_type": "code",
   "execution_count": null,
   "metadata": {},
   "outputs": [],
   "source": [
    "avg_bmi_for_1 = df[df['Outcome']==1]['BMI'].mean()\n",
    "\n",
    "avg_bmi_for_1"
   ]
  },
  {
   "cell_type": "code",
   "execution_count": null,
   "metadata": {},
   "outputs": [],
   "source": [
    "avg_bmi_for_0 = df[df['Outcome']==0]['BMI'].mean()\n",
    "\n",
    "avg_bmi_for_0"
   ]
  },
  {
   "cell_type": "code",
   "execution_count": null,
   "metadata": {},
   "outputs": [],
   "source": [
    "mean_target('BMI')"
   ]
  },
  {
   "cell_type": "code",
   "execution_count": null,
   "metadata": {},
   "outputs": [],
   "source": [
    "distplot('BMI')"
   ]
  },
  {
   "cell_type": "code",
   "execution_count": null,
   "metadata": {},
   "outputs": [],
   "source": [
    "plt.figure(figsize=(8,4), dpi=150)\n",
    "\n",
    "my_pal = {0: \"lightyellow\", 1: \"lightpink\"}\n",
    "sns.boxplot(x = 'Outcome', y = 'BMI', data = df, palette = my_pal)\n",
    "plt.title('BMI vs Outcome')\n",
    "plt.show()"
   ]
  },
  {
   "cell_type": "markdown",
   "metadata": {},
   "source": [
    "Observation:\n",
    "- Average BMI is higher for patients having Diabetes"
   ]
  },
  {
   "cell_type": "markdown",
   "metadata": {},
   "source": [
    "### Glucose"
   ]
  },
  {
   "cell_type": "markdown",
   "metadata": {},
   "source": [
    "- Average Sugar level for adults should be from 90 to 130 mg/dL (5.0 to 7.2 mmol/L) to be considered as normal."
   ]
  },
  {
   "cell_type": "code",
   "execution_count": null,
   "metadata": {},
   "outputs": [],
   "source": [
    "df['Glucose'].mean()"
   ]
  },
  {
   "cell_type": "code",
   "execution_count": null,
   "metadata": {},
   "outputs": [],
   "source": [
    "df[df['Outcome']==1]['Glucose'].mean()\n",
    "\n",
    "print(f'Average Glucose level for Patients having Diabetes is ',df[df['Outcome']==1]['Glucose'].mean())"
   ]
  },
  {
   "cell_type": "code",
   "execution_count": null,
   "metadata": {},
   "outputs": [],
   "source": [
    "df[df['Outcome']==0]['Glucose'].mean()\n",
    "\n",
    "print(f'Average Glucose level for  Patients NOT having Diabetes is ',df[df['Outcome']==0]['Glucose'].mean())"
   ]
  },
  {
   "cell_type": "code",
   "execution_count": null,
   "metadata": {},
   "outputs": [],
   "source": [
    "plt.figure(figsize=(8,4), dpi=150)\n",
    "\n",
    "# sns.displot(data=df, x='Glucose', kde=True)\n",
    "\n",
    "plt.hist(df['Glucose'], 100)\n",
    " \n",
    "# plotting mean line\n",
    "plt.axvline(df['Glucose'].mean(), color='k', linestyle='dashed', linewidth=2)\n",
    " \n",
    "# showing the plot\n",
    "plt.show()"
   ]
  },
  {
   "cell_type": "code",
   "execution_count": null,
   "metadata": {},
   "outputs": [],
   "source": [
    "distplot('Glucose')"
   ]
  },
  {
   "cell_type": "code",
   "execution_count": null,
   "metadata": {},
   "outputs": [],
   "source": [
    "mean_target('Glucose')"
   ]
  },
  {
   "cell_type": "code",
   "execution_count": null,
   "metadata": {},
   "outputs": [],
   "source": [
    "plt.figure(figsize=(8,4), dpi=150)\n",
    "my_pal = {0: \"lightgrey\", 1: \"lightyellow\"}\n",
    "\n",
    "sns.boxplot(data=df, x='Outcome', y='Glucose', palette=my_pal)\n",
    "\n",
    "plt.title('Glucose vs Outcome')\n",
    "plt.show()"
   ]
  },
  {
   "cell_type": "markdown",
   "metadata": {},
   "source": [
    "Observation:\n",
    "- Mean of Sugar levels in diabetic patients is high when compared to Non-diabetic\n",
    "- Median of the Glucose level of Diabetic People is greater than the 75th Percentile of the glucose level of non-diabetic people. Therefore having a high glucose level does increase the chances of having diabetes."
   ]
  },
  {
   "cell_type": "markdown",
   "metadata": {},
   "source": [
    "### DiabetesPedigreeFunction: \n",
    "- Diabetes pedigree function (a function which scores likelihood of diabetes based on family history)"
   ]
  },
  {
   "cell_type": "code",
   "execution_count": null,
   "metadata": {},
   "outputs": [],
   "source": [
    "df.head()"
   ]
  },
  {
   "cell_type": "code",
   "execution_count": null,
   "metadata": {},
   "outputs": [],
   "source": [
    "df['DiabetesPedigreeFunction'].describe()"
   ]
  },
  {
   "cell_type": "code",
   "execution_count": null,
   "metadata": {},
   "outputs": [],
   "source": [
    "plt.figure(figsize=(8,4), dpi=150)\n",
    "\n",
    "sns.scatterplot(data=df, x='DiabetesPedigreeFunction',y='Outcome', hue='Outcome')"
   ]
  },
  {
   "cell_type": "code",
   "execution_count": null,
   "metadata": {},
   "outputs": [],
   "source": [
    "plt.figure(figsize=(8,4), dpi=150)\n",
    "\n",
    "sns.boxplot(data=df, x='Outcome', y='DiabetesPedigreeFunction', palette={0: \"lightgreen\", 1: \"lightpink\"})\n",
    "\n",
    "plt.title('DPF vs Outcome')\n",
    "plt.show()"
   ]
  },
  {
   "cell_type": "markdown",
   "metadata": {},
   "source": [
    "Observation:\n",
    "- From above plot we cannot conclusively decide result by using 'Pedigree' function value"
   ]
  },
  {
   "cell_type": "markdown",
   "metadata": {},
   "source": [
    "### BLOOD PRESSURE\n",
    "\n",
    "- High blood pressure is twice as likely to strike a person with diabetes than a person without diabetes."
   ]
  },
  {
   "cell_type": "code",
   "execution_count": null,
   "metadata": {},
   "outputs": [],
   "source": [
    "df.sample(5)"
   ]
  },
  {
   "cell_type": "code",
   "execution_count": null,
   "metadata": {},
   "outputs": [],
   "source": [
    "plt.figure(figsize=(8,4), dpi=150)\n",
    "\n",
    "sns.kdeplot(data=df, x='BloodPressure')"
   ]
  },
  {
   "cell_type": "code",
   "execution_count": null,
   "metadata": {},
   "outputs": [],
   "source": [
    "df['BloodPressure'].describe()"
   ]
  },
  {
   "cell_type": "code",
   "execution_count": null,
   "metadata": {},
   "outputs": [],
   "source": [
    "# df[(df['BloodPressure']==0) & (df['Outcome']==0)]['BloodPressure'] = 'a'\n",
    "\n",
    "df[df['Outcome']==0]['BloodPressure'].replace(0,df[df['Outcome']==0]['BloodPressure'].mean(axis=0), inplace=True)\n",
    "df[df['Outcome']==1]['BloodPressure'].replace(0,df[df['Outcome']==1]['BloodPressure'].mean(axis=0), inplace=True)\n",
    "\n",
    "## The above lines gives warning and doesn't change the values as intended"
   ]
  },
  {
   "cell_type": "code",
   "execution_count": null,
   "metadata": {},
   "outputs": [],
   "source": [
    "df['BloodPressure'].replace(0, df['BloodPressure'].mean(), inplace=True)"
   ]
  },
  {
   "cell_type": "code",
   "execution_count": null,
   "metadata": {},
   "outputs": [],
   "source": [
    "df['BloodPressure'].describe()"
   ]
  },
  {
   "cell_type": "code",
   "execution_count": null,
   "metadata": {},
   "outputs": [],
   "source": [
    "plt.figure(figsize=(8,4), dpi=150)\n",
    "\n",
    "sns.kdeplot(data=df, x='BloodPressure', fill=True)\n"
   ]
  },
  {
   "cell_type": "code",
   "execution_count": null,
   "metadata": {},
   "outputs": [],
   "source": [
    "distplot('BloodPressure')"
   ]
  },
  {
   "cell_type": "code",
   "execution_count": null,
   "metadata": {},
   "outputs": [],
   "source": [
    "mean_target('BloodPressure')"
   ]
  },
  {
   "cell_type": "code",
   "execution_count": null,
   "metadata": {},
   "outputs": [],
   "source": [
    "plt.figure(figsize=(8,4), dpi=150)\n",
    "\n",
    "sns.boxplot(x = 'Outcome', y = 'BloodPressure', data = df, palette = 'Blues')\n",
    "plt.title('BP vs Outcome')\n",
    "plt.show()"
   ]
  },
  {
   "cell_type": "markdown",
   "metadata": {},
   "source": [
    "Relationship between __Age__ and __BloodPressure__"
   ]
  },
  {
   "cell_type": "code",
   "execution_count": null,
   "metadata": {},
   "outputs": [],
   "source": [
    "plt.figure(figsize=(8,4), dpi=150)\n",
    "\n",
    "sns.jointplot(data=df, x='Age', y='BloodPressure', kind='reg', color='blue')"
   ]
  },
  {
   "cell_type": "markdown",
   "metadata": {},
   "source": [
    "Observation :\n",
    "- The mean of the blood pressure is greater for diabetic people as compared to the non-diabetic people\n",
    "- As the age increases, generally the Blood Pressure also increases"
   ]
  },
  {
   "cell_type": "markdown",
   "metadata": {},
   "source": [
    "### PREGNANCIES"
   ]
  },
  {
   "cell_type": "code",
   "execution_count": null,
   "metadata": {},
   "outputs": [],
   "source": [
    "plt.figure(figsize=(8,4), dpi=150)\n",
    "\n",
    "sns.kdeplot(data=df, x='Pregnancies', fill=True)"
   ]
  },
  {
   "cell_type": "code",
   "execution_count": null,
   "metadata": {},
   "outputs": [],
   "source": [
    "df['Pregnancies'].describe()"
   ]
  },
  {
   "cell_type": "code",
   "execution_count": null,
   "metadata": {},
   "outputs": [],
   "source": [
    "plt.figure(figsize=(8,4), dpi=150)\n",
    "\n",
    "sns.boxplot(data=df, x='Pregnancies')"
   ]
  },
  {
   "cell_type": "code",
   "execution_count": null,
   "metadata": {},
   "outputs": [],
   "source": [
    "outliers_index_pregnancies = df[df['Pregnancies']>13].index\n",
    "\n",
    "outliers_index_pregnancies"
   ]
  },
  {
   "cell_type": "code",
   "execution_count": null,
   "metadata": {},
   "outputs": [],
   "source": [
    "df.drop(outliers_index_pregnancies, axis=0, inplace=True)"
   ]
  },
  {
   "cell_type": "code",
   "execution_count": null,
   "metadata": {},
   "outputs": [],
   "source": [
    "plt.figure(figsize=(8,4), dpi=150)\n",
    "\n",
    "sns.boxplot(data=df, x='Pregnancies')"
   ]
  },
  {
   "cell_type": "code",
   "execution_count": null,
   "metadata": {},
   "outputs": [],
   "source": []
  },
  {
   "cell_type": "code",
   "execution_count": null,
   "metadata": {},
   "outputs": [],
   "source": [
    "fig, ax = plt.subplots()\n",
    "\n",
    "labels = ['Diabetic', \n",
    "         'Non-Diabetic']\n",
    "percentages = [34.89, 65.10]\n",
    "explode=(0.1,0)\n",
    "ax.pie(percentages, explode=explode, labels=labels, autopct='%1.0f%%', \n",
    "       shadow=False, startangle=0,   \n",
    "       pctdistance=1.2,labeldistance=1.4)\n",
    "ax.legend(frameon=False, bbox_to_anchor=(1.5,0.8))\n",
    "plt.show()"
   ]
  },
  {
   "cell_type": "code",
   "execution_count": null,
   "metadata": {},
   "outputs": [],
   "source": [
    "def msv_1(data, thresh = 20, color = 'black', edgecolor = 'black', height = 3, width = 15):\n",
    "    \n",
    "    plt.figure(figsize = (width, height))\n",
    "    percentage = (data.isnull().mean()) * 100\n",
    "    percentage.sort_values(ascending = False).plot.bar(color = color, edgecolor = edgecolor)\n",
    "    plt.axhline(y = thresh, color = 'r', linestyle = '-')\n",
    "    \n",
    "    plt.title('Missing values percentage per column', fontsize=20, weight='bold' )\n",
    "    \n",
    "    plt.text(len(data.isnull().sum()/len(data))/1.7, thresh+2.5, f'Columns with more than {thresh}% missing values', fontsize=12, color='crimson',\n",
    "         ha='left' ,va='top')\n",
    "    plt.text(len(data.isnull().sum()/len(data))/1.7, thresh - 0.5, f'Columns with less than {thresh}% missing values', fontsize=12, color='green',\n",
    "         ha='left' ,va='top')\n",
    "    plt.xlabel('Columns', size=15, weight='bold')\n",
    "    plt.ylabel('Missing values percentage')\n",
    "    plt.yticks(weight ='bold')\n",
    "    \n",
    "    return plt.show()\n",
    "msv_1(df, 20, color=sns.color_palette('Reds',15))"
   ]
  },
  {
   "cell_type": "code",
   "execution_count": null,
   "metadata": {},
   "outputs": [],
   "source": [
    "df[['Glucose', 'BloodPressure', 'SkinThickness', 'Insulin', 'BMI']] = df[['Glucose', 'BloodPressure', 'SkinThickness', 'Insulin', 'BMI']].replace(0, np.nan)"
   ]
  },
  {
   "cell_type": "code",
   "execution_count": null,
   "metadata": {},
   "outputs": [],
   "source": [
    "msv_1(df, 20, color=sns.color_palette('Reds',15))"
   ]
  },
  {
   "cell_type": "markdown",
   "metadata": {},
   "source": [
    "- Since Gluocse, BP, Skinthickness and BMI are normally distrubuted, we can replace the missing values with their __mean__\n",
    "-  For columns like Insulin and DiabetesPedigreeFunction, we will have to replace them will median due to the effect of skewness."
   ]
  },
  {
   "cell_type": "code",
   "execution_count": null,
   "metadata": {},
   "outputs": [],
   "source": [
    "df['Insulin'] = df['Insulin'].fillna(df['Insulin'].median()) \n",
    "\n",
    "for col in ['Glucose', 'BloodPressure', 'SkinThickness', 'BMI']:\n",
    "    df[col] = df[col].fillna(df[col].mean())"
   ]
  },
  {
   "cell_type": "code",
   "execution_count": null,
   "metadata": {},
   "outputs": [],
   "source": [
    "msv_1(df, 10, color=sns.color_palette('Greens',15))"
   ]
  },
  {
   "cell_type": "markdown",
   "metadata": {},
   "source": [
    "Observation:\n",
    "- Insulin has closed to 50% missing values\n",
    "- SkinThickness has almost 30% missing values"
   ]
  },
  {
   "cell_type": "code",
   "execution_count": null,
   "metadata": {},
   "outputs": [],
   "source": [
    "plt.figure(figsize=(8,4), dpi=150)\n",
    "\n",
    "corr = df.corr()\n",
    "# print(corr)\n",
    "sns.heatmap(corr, \n",
    "         xticklabels=corr.columns, \n",
    "         yticklabels=corr.columns,\n",
    "         annot=True)"
   ]
  },
  {
   "cell_type": "code",
   "execution_count": null,
   "metadata": {},
   "outputs": [],
   "source": [
    "plt.figure(figsize=(8,4), dpi=150)\n",
    "\n",
    "corr = df.corr()\n",
    "\n",
    "# Generate a mask for the upper triangle\n",
    "mask = np.triu(np.ones_like(corr, dtype=bool))\n",
    "\n",
    "# Set up the matplotlib figure\n",
    "f, ax = plt.subplots(figsize=(11, 9))\n",
    "\n",
    "# Generate a custom diverging colormap\n",
    "cmap = sns.diverging_palette(230, 20, as_cmap=True)\n",
    "\n",
    "# Draw the heatmap with the mask and correct aspect ratio\n",
    "sns.heatmap(corr, mask=mask, cmap=cmap, vmax=1.0, center=0,\n",
    "            square=True, linewidths=.5, cbar_kws={\"shrink\": .5}, annot = True)"
   ]
  },
  {
   "cell_type": "markdown",
   "metadata": {},
   "source": [
    "- From above Heatmap, it is clear that there is NO __Multicollinearity__ between the independent features"
   ]
  },
  {
   "cell_type": "markdown",
   "metadata": {},
   "source": [
    "## MODEL BUILDING"
   ]
  },
  {
   "cell_type": "markdown",
   "metadata": {},
   "source": [
    "### - STANDARDIZING THE DATA"
   ]
  },
  {
   "cell_type": "code",
   "execution_count": null,
   "metadata": {},
   "outputs": [],
   "source": [
    "from sklearn.preprocessing import StandardScaler\n",
    "from sklearn.model_selection import train_test_split"
   ]
  },
  {
   "cell_type": "code",
   "execution_count": null,
   "metadata": {},
   "outputs": [],
   "source": [
    "X = df.drop('Outcome', axis=1)\n",
    "y = df['Outcome']"
   ]
  },
  {
   "cell_type": "code",
   "execution_count": null,
   "metadata": {},
   "outputs": [],
   "source": [
    "X_train, X_test, y_train, y_test = train_test_split( X, y, test_size=0.2, random_state=42)"
   ]
  },
  {
   "cell_type": "markdown",
   "metadata": {},
   "source": [
    "### Standardizing the data. Why?"
   ]
  },
  {
   "cell_type": "markdown",
   "metadata": {},
   "source": [
    "\n",
    "- Standardizing a dataset involves rescaling the distribution of values so that the mean of observed values is 0 and the standard deviation is 1.\n",
    "\n",
    "- This can be thought of as subtracting the mean value or centering the data. Scaling the features is of utmost importance because different features are in different scales. Let's say the Age has values in double digits, whereas the DPF is of the kind float, the effect of the Age feature will be more as compared to the DPF\n",
    "\n",
    "- Best practice is to use only the training set to figure out how to scale / normalize, then blindly apply the same transform to the test set.\n",
    "\n",
    "- For example, say you're going to normalize the data by removing the mean and dividing out the variance. If you use the whole dataset to figure out the feature mean and variance, you're using knowledge about the distribution of the test set to set the scale of the training set - 'leaking' information.\n",
    "\n",
    "- The right way to do this is to use only the training set to calculate the mean and variance, normalize the training set, and then at test time, use that same (training) mean and variance to normalize the test set."
   ]
  },
  {
   "cell_type": "code",
   "execution_count": null,
   "metadata": {},
   "outputs": [],
   "source": [
    "scaler = StandardScaler()\n",
    "sclaed_X_train = scaler.fit_transform(X_train)\n",
    "scaled_X_test = scaler.transform(X_test)"
   ]
  },
  {
   "cell_type": "code",
   "execution_count": null,
   "metadata": {},
   "outputs": [],
   "source": [
    "from sklearn.linear_model import LogisticRegression\n",
    "\n",
    "logistic_model = LogisticRegression()\n",
    "\n",
    "logistic_model.fit(sclaed_X_train,y_train)"
   ]
  },
  {
   "cell_type": "code",
   "execution_count": null,
   "metadata": {},
   "outputs": [],
   "source": [
    "logistic_model.coef_"
   ]
  },
  {
   "cell_type": "code",
   "execution_count": null,
   "metadata": {},
   "outputs": [],
   "source": [
    "y_pred = logistic_model.predict(scaled_X_test)\n",
    "\n",
    "y_pred"
   ]
  },
  {
   "cell_type": "code",
   "execution_count": null,
   "metadata": {},
   "outputs": [],
   "source": [
    "y_pred_probability = logistic_model.predict_proba(scaled_X_test)\n",
    "\n",
    "y_pred_probability"
   ]
  },
  {
   "cell_type": "code",
   "execution_count": null,
   "metadata": {},
   "outputs": [],
   "source": []
  },
  {
   "cell_type": "markdown",
   "metadata": {},
   "source": [
    "## PERFORMANCE METRICS"
   ]
  },
  {
   "cell_type": "code",
   "execution_count": null,
   "metadata": {},
   "outputs": [],
   "source": [
    "from sklearn.metrics import accuracy_score, confusion_matrix, classification_report"
   ]
  },
  {
   "cell_type": "code",
   "execution_count": null,
   "metadata": {},
   "outputs": [],
   "source": [
    "accuracy = accuracy_score(y_test,y_pred)\n",
    "accuracy"
   ]
  },
  {
   "cell_type": "code",
   "execution_count": null,
   "metadata": {},
   "outputs": [],
   "source": [
    "confusion_mat = confusion_matrix(y_test,y_pred)\n",
    "confusion_mat"
   ]
  },
  {
   "cell_type": "code",
   "execution_count": null,
   "metadata": {},
   "outputs": [],
   "source": [
    "from sklearn.metrics import plot_confusion_matrix\n",
    "\n",
    "plt.figure(dpi=150)\n",
    "plot_confusion_matrix(logistic_model,scaled_X_test,y_test)"
   ]
  },
  {
   "cell_type": "code",
   "execution_count": null,
   "metadata": {},
   "outputs": [],
   "source": [
    "print(classification_report(y_test,y_pred))"
   ]
  },
  {
   "cell_type": "code",
   "execution_count": null,
   "metadata": {},
   "outputs": [],
   "source": [
    "from sklearn.linear_model import LogisticRegressionCV"
   ]
  },
  {
   "cell_type": "code",
   "execution_count": null,
   "metadata": {},
   "outputs": [],
   "source": [
    "logistic_model_cv = LogisticRegressionCV()\n",
    "\n",
    "logistic_model_cv.fit(sclaed_X_train,y_train)"
   ]
  },
  {
   "cell_type": "code",
   "execution_count": null,
   "metadata": {},
   "outputs": [],
   "source": [
    "logistic_model_cv.C_"
   ]
  },
  {
   "cell_type": "code",
   "execution_count": null,
   "metadata": {},
   "outputs": [],
   "source": [
    "logistic_model_cv.get_params()"
   ]
  },
  {
   "cell_type": "code",
   "execution_count": null,
   "metadata": {},
   "outputs": [],
   "source": [
    "logistic_model_cv.coef_"
   ]
  },
  {
   "cell_type": "code",
   "execution_count": null,
   "metadata": {},
   "outputs": [],
   "source": [
    "y_pred_cv = logistic_model_cv.predict(scaled_X_test)"
   ]
  },
  {
   "cell_type": "code",
   "execution_count": null,
   "metadata": {},
   "outputs": [],
   "source": [
    "coeffs = pd.Series(index=X.columns,data=logistic_model_cv.coef_[0])\n",
    "\n",
    "coeffs"
   ]
  },
  {
   "cell_type": "code",
   "execution_count": null,
   "metadata": {},
   "outputs": [],
   "source": [
    "plt.figure(figsize=(8,4),dpi=150)\n",
    "coeffs = coeffs.sort_values()\n",
    "sns.barplot(x=coeffs.index,y=coeffs.values)"
   ]
  },
  {
   "cell_type": "code",
   "execution_count": null,
   "metadata": {},
   "outputs": [],
   "source": [
    "from sklearn.metrics import accuracy_score,confusion_matrix,classification_report,plot_confusion_matrix\n",
    "\n",
    "confusion_matrix(y_test,y_pred_cv)"
   ]
  },
  {
   "cell_type": "code",
   "execution_count": null,
   "metadata": {},
   "outputs": [],
   "source": [
    "plot_confusion_matrix(logistic_model_cv,scaled_X_test,y_test)"
   ]
  },
  {
   "cell_type": "code",
   "execution_count": null,
   "metadata": {},
   "outputs": [],
   "source": [
    "print(classification_report(y_test,y_pred_cv))"
   ]
  },
  {
   "cell_type": "code",
   "execution_count": null,
   "metadata": {},
   "outputs": [],
   "source": []
  },
  {
   "cell_type": "code",
   "execution_count": null,
   "metadata": {},
   "outputs": [],
   "source": []
  }
 ],
 "metadata": {
  "kernelspec": {
   "display_name": "Python 3.9.7 ('base')",
   "language": "python",
   "name": "python3"
  },
  "language_info": {
   "codemirror_mode": {
    "name": "ipython",
    "version": 3
   },
   "file_extension": ".py",
   "mimetype": "text/x-python",
   "name": "python",
   "nbconvert_exporter": "python",
   "pygments_lexer": "ipython3",
   "version": "3.9.7"
  },
  "orig_nbformat": 4,
  "vscode": {
   "interpreter": {
    "hash": "a2a44d6bf7725472b302fb43220884295e1f7de98ffd4624c738d18ae0190b1a"
   }
  }
 },
 "nbformat": 4,
 "nbformat_minor": 2
}
